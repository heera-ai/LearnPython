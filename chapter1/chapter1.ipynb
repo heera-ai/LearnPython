{
 "cells": [
  {
   "cell_type": "markdown",
   "metadata": {},
   "source": [
    "# <center>Chapter 1: Introduction and Setup</center>\n",
    "\n",
    "In this notebook, we'll briefly cover what Python is, why it's widely used, how to install it, and how to run a basic \"Hello, World!\" script.\n"
   ]
  },
  {
   "cell_type": "markdown",
   "metadata": {},
   "source": [
    "---\n",
    "\n",
    "## 1.1 What is Python and Why Use It?\n",
    "- **High-level, interpreted language**: Easy to write and debug.\n",
    "- **Versatile**: Used in web development, data science, automation, AI, and more.\n",
    "- **Large community**: Extensive libraries and active support.\n",
    "\n",
    "---\n",
    "\n"
   ]
  },
  {
   "cell_type": "markdown",
   "metadata": {},
   "source": [
    "## 1.2 Installing Python\n",
    "- **Windows**: Download from [python.org](https://www.python.org/downloads/windows/) and follow the installer steps. Check \"Add Python to PATH\" if prompted.\n",
    "- **macOS**: Often pre-installed. Otherwise, download from [python.org](https://www.python.org/downloads/macos/) or use a package manager like Homebrew.\n",
    "- **Linux**: Usually pre-installed. If not, use your distro’s package manager (e.g., `sudo apt-get install python3` on Ubuntu).\n",
    "\n",
    "---\n",
    "\n"
   ]
  },
  {
   "cell_type": "markdown",
   "metadata": {},
   "source": [
    "## 1.3 Choosing an IDE or Text Editor\n",
    "- **Visual Studio Code**: Cross-platform, powerful extensions.\n",
    "- **PyCharm**: Full-featured IDE specifically designed for Python.\n",
    "- **Jupyter Notebooks**: Interactive, useful for data exploration and prototyping.\n",
    "\n",
    "---\n"
   ]
  },
  {
   "cell_type": "markdown",
   "metadata": {},
   "source": [
    "## 1.4 Your First Python Program\n",
    "Below is a simple Python script that prints \"Hello, World!\".\n"
   ]
  },
  {
   "cell_type": "code",
   "execution_count": 2,
   "metadata": {},
   "outputs": [
    {
     "name": "stdout",
     "output_type": "stream",
     "text": [
      "Hello, World!\n"
     ]
    }
   ],
   "source": [
    "print(\"Hello, World!\")"
   ]
  },
  {
   "cell_type": "markdown",
   "metadata": {},
   "source": [
    "\n",
    "```python\n"
   ]
  }
 ],
 "metadata": {
  "kernelspec": {
   "display_name": "Python 3",
   "language": "python",
   "name": "python3"
  },
  "language_info": {
   "codemirror_mode": {
    "name": "ipython",
    "version": 3
   },
   "file_extension": ".py",
   "mimetype": "text/x-python",
   "name": "python",
   "nbconvert_exporter": "python",
   "pygments_lexer": "ipython3",
   "version": "3.10.12"
  }
 },
 "nbformat": 4,
 "nbformat_minor": 2
}
